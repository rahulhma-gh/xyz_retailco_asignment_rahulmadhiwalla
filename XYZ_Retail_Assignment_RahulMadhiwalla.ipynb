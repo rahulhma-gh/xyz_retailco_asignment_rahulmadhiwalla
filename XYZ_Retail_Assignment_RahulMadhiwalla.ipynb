{
  "cells": [
    {
      "cell_type": "markdown",
      "id": "5955a031",
      "metadata": {
        "id": "5955a031"
      },
      "source": [
        "# XYZ Retail Company - Python Assignment\n",
        "**Prepared by:** Rahul Madhiwalla\n",
        "\n",
        "This notebook contains solutions to 20 Python-based business data analysis tasks for XYZ Retail Company as part of the Hero Vired Data Science course assignment.\n",
        "Each task demonstrates the application of Python in solving real-world retail challenges.\n"
      ]
    },
    {
      "cell_type": "markdown",
      "id": "ab390115",
      "metadata": {
        "id": "ab390115"
      },
      "source": [
        "## Task 1: Sales Data Summary"
      ]
    },
    {
      "cell_type": "code",
      "execution_count": null,
      "id": "435a77c6",
      "metadata": {
        "colab": {
          "base_uri": "https://localhost:8080/"
        },
        "id": "435a77c6",
        "outputId": "0939269c-f0e3-44d1-877f-a233b9a277a2"
      },
      "outputs": [
        {
          "output_type": "stream",
          "name": "stdout",
          "text": [
            "Sales Data Summary:\n",
            "Total Units Sold: 300\n",
            "Difference Between Categories: 60\n",
            "Ratio of Category A to Category B: 1.5\n"
          ]
        }
      ],
      "source": [
        "# Task 1: Sales Data Summary\n",
        "category_a = 180\n",
        "category_b = 120\n",
        "\n",
        "total_units = category_a + category_b\n",
        "difference = abs(category_a - category_b)\n",
        "ratio = round(category_a / category_b, 2)\n",
        "\n",
        "print(\"Sales Data Summary:\")\n",
        "print(f\"Total Units Sold: {total_units}\")\n",
        "print(f\"Difference Between Categories: {difference}\")\n",
        "print(f\"Ratio of Category A to Category B: {ratio}\")\n"
      ]
    },
    {
      "cell_type": "markdown",
      "id": "b7aaec1d",
      "metadata": {
        "id": "b7aaec1d"
      },
      "source": [
        "## Task 2: Customer Age Data"
      ]
    },
    {
      "cell_type": "code",
      "execution_count": null,
      "id": "c29ee7bb",
      "metadata": {
        "colab": {
          "base_uri": "https://localhost:8080/"
        },
        "id": "c29ee7bb",
        "outputId": "51ca2891-4cd4-4767-a090-a307577e57cb"
      },
      "outputs": [
        {
          "output_type": "stream",
          "name": "stdout",
          "text": [
            "Dear Rahul Madhiwalla, at 55, you’re eligible for our premium loyalty program.\n"
          ]
        }
      ],
      "source": [
        "# Task 2: Customer Age Data\n",
        "customer_name = \"Rahul Madhiwalla\"\n",
        "customer_age = 55\n",
        "\n",
        "message = f\"Dear {customer_name}, at {customer_age}, you’re eligible for our premium loyalty program.\"\n",
        "print(message)\n"
      ]
    },
    {
      "cell_type": "markdown",
      "id": "cb630fc8",
      "metadata": {
        "id": "cb630fc8"
      },
      "source": [
        "## Task 3: Product List Management"
      ]
    },
    {
      "cell_type": "code",
      "execution_count": null,
      "id": "a3e9b2cf",
      "metadata": {
        "colab": {
          "base_uri": "https://localhost:8080/"
        },
        "id": "a3e9b2cf",
        "outputId": "024b3d66-e2ee-49ed-b45a-7f9e068eb6e4"
      },
      "outputs": [
        {
          "output_type": "stream",
          "name": "stdout",
          "text": [
            "Highest Price: 200\n",
            "Lowest Price: 30\n",
            "Mid-Range Products: [50, 120, 90, 150, 180]\n",
            "Updated Product List with Premium Price: [50, 120, 30, 200, 90, 150, 180, 250]\n"
          ]
        }
      ],
      "source": [
        "# Task 3: Product List Management\n",
        "product_prices = [50, 120, 30, 200, 90, 150, 180]\n",
        "premium_product_price = 250\n",
        "\n",
        "highest = max(product_prices)\n",
        "lowest = min(product_prices)\n",
        "mid_range = [price for price in product_prices if lowest < price < highest]\n",
        "\n",
        "updated_prices = product_prices + [premium_product_price]\n",
        "\n",
        "print(f\"Highest Price: {highest}\")\n",
        "print(f\"Lowest Price: {lowest}\")\n",
        "print(f\"Mid-Range Products: {mid_range}\")\n",
        "print(f\"Updated Product List with Premium Price: {updated_prices}\")\n"
      ]
    },
    {
      "cell_type": "markdown",
      "id": "a3034a22",
      "metadata": {
        "id": "a3034a22"
      },
      "source": [
        "## Task 4: Inventory Lookup"
      ]
    },
    {
      "cell_type": "code",
      "execution_count": null,
      "id": "088439c7",
      "metadata": {
        "colab": {
          "base_uri": "https://localhost:8080/"
        },
        "id": "088439c7",
        "outputId": "7d3bd54f-4807-4be6-ecff-0762b78240f9"
      },
      "outputs": [
        {
          "output_type": "stream",
          "name": "stdout",
          "text": [
            "Product Name: Wireless Mouse\n",
            "Product SKU: WM-12345\n"
          ]
        }
      ],
      "source": [
        "# Task 4: Inventory Lookup\n",
        "\n",
        "product_info = {\n",
        "    \"product_name\": \"Wireless Mouse\",\n",
        "    \"SKU\": \"WM-12345\",\n",
        "    \"price\": 25.99,\n",
        "    \"category\": \"Electronics\"\n",
        "}\n",
        "\n",
        "# Extracting product name and SKU\n",
        "print(f\"Product Name: {product_info['product_name']}\")\n",
        "print(f\"Product SKU: {product_info['SKU']}\")\n"
      ]
    },
    {
      "cell_type": "markdown",
      "id": "51cb90cd",
      "metadata": {
        "id": "51cb90cd"
      },
      "source": [
        "## Task 5: Stock Level Alert System"
      ]
    },
    {
      "cell_type": "code",
      "execution_count": null,
      "id": "382d7894",
      "metadata": {
        "colab": {
          "base_uri": "https://localhost:8080/"
        },
        "id": "382d7894",
        "outputId": "6f14ceea-4851-4124-dd25-eb57475e08a4"
      },
      "outputs": [
        {
          "output_type": "stream",
          "name": "stdout",
          "text": [
            "Enter stock level: 35\n",
            "Stock is sufficient\n"
          ]
        }
      ],
      "source": [
        "# Task 5: Stock Level Alert System\n",
        "# Here for any level less than 20 we order and for others stock is sufficient.\n",
        "stock_level = int(input(\"Enter stock level: \"))\n",
        "threshold = 20\n",
        "\n",
        "if stock_level < threshold:\n",
        "    print(\"Reorder Now\")\n",
        "else:\n",
        "    print(\"Stock is sufficient\")\n"
      ]
    },
    {
      "cell_type": "markdown",
      "id": "28a54e1f",
      "metadata": {
        "id": "28a54e1f"
      },
      "source": [
        "## Task 6: Sales Report Formatting"
      ]
    },
    {
      "cell_type": "code",
      "execution_count": null,
      "id": "f0d18e73",
      "metadata": {
        "colab": {
          "base_uri": "https://localhost:8080/"
        },
        "id": "f0d18e73",
        "outputId": "5b0f5a93-9161-48c7-a9cc-1b614424117d"
      },
      "outputs": [
        {
          "output_type": "stream",
          "name": "stdout",
          "text": [
            "Products in Uppercase (For Loop):\n",
            "LAPTOP\n",
            "MOUSE\n",
            "KEYBOARD\n",
            "MONITOR\n",
            "PRINTER\n",
            "\n",
            "Products in Uppercase (While Loop):\n",
            "LAPTOP\n",
            "MOUSE\n",
            "KEYBOARD\n",
            "MONITOR\n",
            "PRINTER\n"
          ]
        }
      ],
      "source": [
        "# Task 6: Sales Report Formatting\n",
        "\n",
        "products_sold = [\"laptop\", \"mouse\", \"keyboard\", \"monitor\", \"printer\"]\n",
        "\n",
        "# Using for loop\n",
        "print(\"Products in Uppercase (For Loop):\")\n",
        "for product in products_sold:\n",
        "    print(product.upper())\n",
        "\n",
        "print(\"\\nProducts in Uppercase (While Loop):\")\n",
        "i = 0\n",
        "while i < len(products_sold):\n",
        "    print(products_sold[i].upper())\n",
        "    i += 1\n"
      ]
    },
    {
      "cell_type": "markdown",
      "id": "ee0477f5",
      "metadata": {
        "id": "ee0477f5"
      },
      "source": [
        "## Task 7: Area Calculation for Store Layout"
      ]
    },
    {
      "cell_type": "code",
      "execution_count": null,
      "id": "d3e2e1fc",
      "metadata": {
        "id": "d3e2e1fc",
        "colab": {
          "base_uri": "https://localhost:8080/"
        },
        "outputId": "9167ec46-0f7f-48ef-a97d-76e99083eac3"
      },
      "outputs": [
        {
          "output_type": "stream",
          "name": "stdout",
          "text": [
            "The area of section 1 is 300 square meters.\n",
            "The area of section 2 is 100 square meters.\n",
            "The area of section 3 is 600 square meters.\n"
          ]
        }
      ],
      "source": [
        "\n",
        "# Task 7: Area Calculation for Store Layout\n",
        "# the following code defines the areas as multiple of length * width\n",
        "def calculate_area(length, width):\n",
        "    return length * width\n",
        "\n",
        "# Example usage for multiple sections\n",
        "sections = [(20, 15), (10, 10), (30, 20)]\n",
        "\n",
        "# the following code calculates area for the series from first to end in an ascending order sequence of step 1 .\n",
        "for idx, (l, w) in enumerate(sections, start=1):\n",
        "    area = calculate_area(l, w)\n",
        "    print(f\"The area of section {idx} is {area} square meters.\")\n",
        "\n"
      ]
    },
    {
      "cell_type": "markdown",
      "id": "bdb5b244",
      "metadata": {
        "id": "bdb5b244"
      },
      "source": [
        "## Task 8: Customer Feedback Analysis"
      ]
    },
    {
      "cell_type": "code",
      "execution_count": null,
      "id": "59fce809",
      "metadata": {
        "id": "59fce809",
        "colab": {
          "base_uri": "https://localhost:8080/"
        },
        "outputId": "ad375ebc-e39e-4cac-fcde-0fce97db58fa"
      },
      "outputs": [
        {
          "output_type": "stream",
          "name": "stdout",
          "text": [
            "Customer Feedback Analysis:\n",
            "Original Feedback: The service was excellent and very quick!\n",
            "Number of Vowels: 12\n",
            "Reversed Feedback: !kciuq yrev dna tnellecxe saw ecivres ehT\n"
          ]
        }
      ],
      "source": [
        "\n",
        "# Task 8: Customer Feedback Analysis\n",
        "\n",
        "feedback = \"The service was excellent and very quick!\"\n",
        "\n",
        "# Count vowels\n",
        "vowels = \"aeiouAEIOU\"\n",
        "vowel_count = sum(1 for char in feedback if char in vowels)\n",
        "\n",
        "# Reverse feedback\n",
        "# In the sentence of feeback the word order is reversed as well as the letters in the word.\n",
        "reversed_feedback = feedback[::-1]\n",
        "\n",
        "print(\"Customer Feedback Analysis:\")\n",
        "print(f\"Original Feedback: {feedback}\")\n",
        "print(f\"Number of Vowels: {vowel_count}\")\n",
        "print(f\"Reversed Feedback: {reversed_feedback}\")\n"
      ]
    },
    {
      "cell_type": "markdown",
      "id": "b80d1408",
      "metadata": {
        "id": "b80d1408"
      },
      "source": [
        "## Task 9: Price Filtering Tool"
      ]
    },
    {
      "cell_type": "code",
      "execution_count": null,
      "id": "af4ef569",
      "metadata": {
        "id": "af4ef569",
        "colab": {
          "base_uri": "https://localhost:8080/"
        },
        "outputId": "0ca9ee96-96e7-4960-c30e-eb637358e934"
      },
      "outputs": [
        {
          "output_type": "stream",
          "name": "stdout",
          "text": [
            "Products eligible for the discount campaign: [85, 45]\n"
          ]
        }
      ],
      "source": [
        "\n",
        "# Task 9: Price Filtering Tool\n",
        "\n",
        "product_prices = [150, 85, 300, 120, 45, 200]\n",
        "discount_threshold = 100\n",
        "\n",
        "# this code  gives the prices of products which are less than threshold.\n",
        "eligible_products = [price for price in product_prices if price < discount_threshold]\n",
        "\n",
        "print(\"Products eligible for the discount campaign:\", eligible_products)\n",
        "\n"
      ]
    },
    {
      "cell_type": "markdown",
      "id": "4c6ee040",
      "metadata": {
        "id": "4c6ee040"
      },
      "source": [
        "## Task 10: Sales Log File Management"
      ]
    },
    {
      "cell_type": "code",
      "execution_count": null,
      "id": "30ea0863",
      "metadata": {
        "id": "30ea0863",
        "colab": {
          "base_uri": "https://localhost:8080/"
        },
        "outputId": "defa87c0-2fab-42c6-e618-c5734d4184bc"
      },
      "outputs": [
        {
          "output_type": "stream",
          "name": "stdout",
          "text": [
            "Content of 'sales_log.txt':\n",
            "Total sales today: $12,345.\n",
            "Number of transactions: 123.\n"
          ]
        }
      ],
      "source": [
        "# Task 10: Sales Log File Management\n",
        "\n",
        "# Writing to file\n",
        "with open(\"sales_log.txt\", \"w\") as file:\n",
        "    file.write(\"Total sales today: $12,345.\\n\")\n",
        "    file.write(\"Number of transactions: 123.\")\n",
        "\n",
        "# Reading from file\n",
        "with open(\"sales_log.txt\", \"r\") as file:\n",
        "    content = file.read()\n",
        "\n",
        "print(\"Content of 'sales_log.txt':\")\n",
        "print(content)\n",
        "\n"
      ]
    },
    {
      "cell_type": "markdown",
      "id": "81821956",
      "metadata": {
        "id": "81821956"
      },
      "source": [
        "## Task 11: Daily Sales Average"
      ]
    },
    {
      "cell_type": "code",
      "execution_count": null,
      "id": "d7bd0bc4",
      "metadata": {
        "id": "d7bd0bc4",
        "colab": {
          "base_uri": "https://localhost:8080/"
        },
        "outputId": "ab7c9c35-e43e-4138-820f-71b721d4356f"
      },
      "outputs": [
        {
          "output_type": "stream",
          "name": "stdout",
          "text": [
            "Average Daily Sales for the Past Week: $1471.43\n",
            "Average Daily Sales for the Past Week: $1471.43\n"
          ]
        }
      ],
      "source": [
        "# Task 11: Daily Sales Average\n",
        "# Task 11: Daily Sales Average\n",
        "\n",
        "daily_sales = [1200, 1500, 1100, 1800, 1700, 1600, 1400]\n",
        "average_sales = sum(daily_sales) / len(daily_sales)\n",
        "\n",
        "# new method using \"f\" literal strings.Decimal upto 2 places.\n",
        "print(f\"Average Daily Sales for the Past Week: ${average_sales:.2f}\")\n",
        "\n",
        "# old method without using f string.\n",
        "print(\"Average Daily Sales for the Past Week: $\" + str(round(average_sales, 2)))\n",
        "\n",
        "\n",
        "\n"
      ]
    },
    {
      "cell_type": "markdown",
      "id": "80d6804b",
      "metadata": {
        "id": "80d6804b"
      },
      "source": [
        "## Task 12: Customer Segmentation"
      ]
    },
    {
      "cell_type": "code",
      "execution_count": null,
      "id": "5ec947a2",
      "metadata": {
        "id": "5ec947a2",
        "colab": {
          "base_uri": "https://localhost:8080/"
        },
        "outputId": "6bea1b02-1564-42f1-8c6e-95fe03712893"
      },
      "outputs": [
        {
          "output_type": "stream",
          "name": "stdout",
          "text": [
            "Customer Spending Categories:\n",
            "Customer 1: Spending = $200 -> Category: Low\n",
            "Customer 2: Spending = $800 -> Category: Medium\n",
            "Customer 3: Spending = $1500 -> Category: High\n",
            "Customer 4: Spending = $3000 -> Category: High\n",
            "Customer 5: Spending = $450 -> Category: Low\n",
            "Customer 6: Spending = $1200 -> Category: Medium\n"
          ]
        }
      ],
      "source": [
        "\n",
        "# Task 12: Customer Segmentation\n",
        "\n",
        "customer_spendings = [200, 800, 1500, 3000, 450, 1200]\n",
        "\n",
        "print(\"Customer Spending Categories:\")\n",
        "# the following code checks the values in sequence and bifurcates into categories.\n",
        "for idx, spending in enumerate(customer_spendings, start=1):\n",
        "    if spending < 500:\n",
        "        category = \"Low\"\n",
        "    elif spending < 1500:\n",
        "        category = \"Medium\"\n",
        "    else:\n",
        "        category = \"High\"\n",
        "    print(f\"Customer {idx}: Spending = ${spending} -> Category: {category}\")\n",
        "\n"
      ]
    },
    {
      "cell_type": "markdown",
      "id": "0a981b90",
      "metadata": {
        "id": "0a981b90"
      },
      "source": [
        "## Task 13: Discount Calculation"
      ]
    },
    {
      "cell_type": "code",
      "execution_count": null,
      "id": "7f7fb79c",
      "metadata": {
        "id": "7f7fb79c",
        "colab": {
          "base_uri": "https://localhost:8080/"
        },
        "outputId": "e8df7207-e5c2-4cd9-87e6-f7db60b270a2"
      },
      "outputs": [
        {
          "output_type": "stream",
          "name": "stdout",
          "text": [
            "Final Prices After Discounts:\n",
            "Product 1: Original Price = $100, Discount = 10%, Final Price = $90.00\n",
            "Product 2: Original Price = $250, Discount = 20%, Final Price = $200.00\n",
            "Product 3: Original Price = $75, Discount = 15%, Final Price = $63.75\n",
            "Product 4: Original Price = $150, Discount = 5%, Final Price = $142.50\n"
          ]
        }
      ],
      "source": [
        "\n",
        "# Task 13: Discount Calculation\n",
        "\n",
        "products = [\n",
        "    {\"name\": \"Product A\", \"original_price\": 100, \"discount_percentage\": 10},\n",
        "    {\"name\": \"Product B\", \"original_price\": 250, \"discount_percentage\": 20},\n",
        "    {\"name\": \"Product C\", \"original_price\": 75, \"discount_percentage\": 15},\n",
        "    {\"name\": \"Product D\", \"original_price\": 150, \"discount_percentage\": 5}\n",
        "]\n",
        "\n",
        "print(\"Final Prices After Discounts:\")\n",
        "for idx, product in enumerate(products, start=1):\n",
        "  # these lines of code show besides orignal price also the discounted price.\n",
        "    discount = product[\"discount_percentage\"] / 100\n",
        "    final_price = product[\"original_price\"] * (1 - discount)\n",
        "    print(f\"Product {idx}: Original Price = ${product['original_price']}, \"\n",
        "          f\"Discount = {product['discount_percentage']}%, \"\n",
        "          f\"Final Price = ${final_price:.2f}\")\n",
        "\n"
      ]
    },
    {
      "cell_type": "markdown",
      "id": "83a91a71",
      "metadata": {
        "id": "83a91a71"
      },
      "source": [
        "## Task 14: Customer Feedback Sentiment Analysis"
      ]
    },
    {
      "cell_type": "code",
      "execution_count": null,
      "id": "ebfe1c0b",
      "metadata": {
        "id": "ebfe1c0b",
        "colab": {
          "base_uri": "https://localhost:8080/"
        },
        "outputId": "6cfc9224-ea7c-435d-e501-1c7dbff96ede"
      },
      "outputs": [
        {
          "output_type": "stream",
          "name": "stdout",
          "text": [
            "Customer Feedback Sentiment: Positive\n"
          ]
        }
      ],
      "source": [
        "\n",
        "# Task 14: Customer Feedback Sentiment Analysis\n",
        "\n",
        "feedback = \"I am very happy with the service. It was a good experience!\"\n",
        "positive_words = [\"good\", \"happy\", \"excellent\", \"great\"]\n",
        "negative_words = [\"bad\", \"disappointed\", \"poor\", \"terrible\"]\n",
        "\n",
        "# Convert to lowercase for comparison\n",
        "feedback_lower = feedback.lower()\n",
        "\n",
        "# this code bifurcates the feedback into 3 sentiment types based on defined words for poistive, negative. If both type do not appear then it is neutral.\n",
        "sentiment = \"Neutral\"\n",
        "if any(word in feedback_lower for word in positive_words):\n",
        "    sentiment = \"Positive\"\n",
        "elif any(word in feedback_lower for word in negative_words):\n",
        "    sentiment = \"Negative\"\n",
        "\n",
        "print(\"Customer Feedback Sentiment:\", sentiment)\n",
        "\n"
      ]
    },
    {
      "cell_type": "markdown",
      "id": "2b7f6815",
      "metadata": {
        "id": "2b7f6815"
      },
      "source": [
        "## Task 15: Employee Salary Increment Calculator"
      ]
    },
    {
      "cell_type": "code",
      "execution_count": null,
      "id": "54a02e79",
      "metadata": {
        "id": "54a02e79",
        "colab": {
          "base_uri": "https://localhost:8080/"
        },
        "outputId": "29875fcb-561f-4f15-8175-696af47e5c3f"
      },
      "outputs": [
        {
          "output_type": "stream",
          "name": "stdout",
          "text": [
            "Updated Salaries After Increment:\n",
            "Alice: Current Salary = $50000, Rating = Excellent, Updated Salary = $60000.00\n",
            "Bob: Current Salary = $40000, Rating = Good, Updated Salary = $46000.00\n",
            "Charlie: Current Salary = $45000, Rating = Average, Updated Salary = $49500.00\n",
            "David: Current Salary = $35000, Rating = Poor, Updated Salary = $36750.00\n"
          ]
        }
      ],
      "source": [
        "\n",
        "# Task 15: Employee Salary Increment Calculator\n",
        "\n",
        "employees = {\n",
        "    \"Alice\": {\"current_salary\": 50000, \"rating\": \"Excellent\"},\n",
        "    \"Bob\": {\"current_salary\": 40000, \"rating\": \"Good\"},\n",
        "    \"Charlie\": {\"current_salary\": 45000, \"rating\": \"Average\"},\n",
        "    \"David\": {\"current_salary\": 35000, \"rating\": \"Poor\"}\n",
        "}\n",
        "\n",
        "increments = {\n",
        "    \"Excellent\": 20,\n",
        "    \"Good\": 15,\n",
        "    \"Average\": 10,\n",
        "    \"Poor\": 5\n",
        "}\n",
        "\n",
        "print(\"Updated Salaries After Increment:\")\n",
        "for name, info in employees.items():\n",
        "    current_salary = info[\"current_salary\"]\n",
        "    rating = info[\"rating\"]\n",
        "    increment_percent = increments.get(rating, 0)\n",
        "    # this following code gives updated salary by adding the percentage, and also prints them.\n",
        "    updated_salary = current_salary * (1 + increment_percent / 100)\n",
        "    print(f\"{name}: Current Salary = ${current_salary}, Rating = {rating}, Updated Salary = ${updated_salary:.2f}\")\n",
        "\n"
      ]
    },
    {
      "cell_type": "markdown",
      "id": "4aa8b167",
      "metadata": {
        "id": "4aa8b167"
      },
      "source": [
        "## Task 16: Monthly Sales Report Generator"
      ]
    },
    {
      "cell_type": "code",
      "execution_count": null,
      "id": "c8a450eb",
      "metadata": {
        "id": "c8a450eb",
        "colab": {
          "base_uri": "https://localhost:8080/"
        },
        "outputId": "f075326b-f075-4f20-fb58-ef81fa9810ad"
      },
      "outputs": [
        {
          "output_type": "stream",
          "name": "stdout",
          "text": [
            "Monthly Sales Report\n",
            "---------------------\n",
            "Total Sales: $10300\n",
            "Average Daily Sales: $343.33\n"
          ]
        }
      ],
      "source": [
        "\n",
        "# Task 16: Monthly Sales Report Generator\n",
        "\n",
        "daily_sales = [\n",
        "    200, 250, 300, 400, 350, 500, 450, 300, 250, 400,\n",
        "    200, 300, 450, 500, 400, 250, 350, 300, 450, 400,\n",
        "    250, 300, 200, 400, 350, 300, 500, 450, 300, 250\n",
        "]\n",
        "\n",
        "total_sales = sum(daily_sales)\n",
        "average_sales = total_sales / len(daily_sales)\n",
        "\n",
        "report = (\n",
        "    \"Monthly Sales Report\\n\"\n",
        "    \"---------------------\\n\"\n",
        "    f\"Total Sales: ${total_sales}\\n\"\n",
        "    f\"Average Daily Sales: ${average_sales:.2f}\"\n",
        ")\n",
        "\n",
        "with open(\"monthly_report.txt\", \"w\") as file:\n",
        "    file.write(report)\n",
        "\n",
        "print(report)\n",
        "\n"
      ]
    },
    {
      "cell_type": "markdown",
      "id": "07675211",
      "metadata": {
        "id": "07675211"
      },
      "source": [
        "## Task 17: Stock Replenishment Planning"
      ]
    },
    {
      "cell_type": "code",
      "execution_count": null,
      "id": "09a7ea3b",
      "metadata": {
        "id": "09a7ea3b",
        "colab": {
          "base_uri": "https://localhost:8080/"
        },
        "outputId": "70036699-1f72-41b8-e49a-53be8a90dd6b"
      },
      "outputs": [
        {
          "output_type": "stream",
          "name": "stdout",
          "text": [
            "Products that need replenishment:\n",
            "Product C\n",
            "Product E\n"
          ]
        }
      ],
      "source": [
        "\n",
        "# Task 17: Stock Replenishment Planning\n",
        "\n",
        "products = [\n",
        "    {\"product_name\": \"Product A\", \"stock\": 50},\n",
        "    {\"product_name\": \"Product B\", \"stock\": 150},\n",
        "    {\"product_name\": \"Product C\", \"stock\": 30},\n",
        "    {\"product_name\": \"Product D\", \"stock\": 75},\n",
        "    {\"product_name\": \"Product E\", \"stock\": 20}\n",
        "]\n",
        "\n",
        "threshold = 40\n",
        "\n",
        "print(\"Products that need replenishment:\")\n",
        "for product in products:\n",
        "    if product[\"stock\"] < threshold:\n",
        "        print(product[\"product_name\"])\n",
        "\n"
      ]
    },
    {
      "cell_type": "markdown",
      "id": "cb5dc0dd",
      "metadata": {
        "id": "cb5dc0dd"
      },
      "source": [
        "## Task 18: Data Cleaning Utility"
      ]
    },
    {
      "cell_type": "code",
      "execution_count": null,
      "id": "0287a968",
      "metadata": {
        "id": "0287a968",
        "colab": {
          "base_uri": "https://localhost:8080/"
        },
        "outputId": "194508b6-edea-4d85-f352-d51d9149b178"
      },
      "outputs": [
        {
          "output_type": "stream",
          "name": "stdout",
          "text": [
            "Cleaned Customer Names for Database Entry:\n",
            "John Doe\n",
            "Mary Smith\n",
            "Alice Johnson\n",
            "Bob White\n"
          ]
        }
      ],
      "source": [
        "\n",
        "# Task 18: Data Cleaning Utility\n",
        "\n",
        "customer_names = [\" john doe \", \" MARY SMITH \", \" aLICE JOHNSON \", \"bOB WHITE\"]\n",
        "\n",
        "# this line of code converts all the letters in name and surname to small letters except for the first letter.\n",
        "cleaned_names = [name.strip().title() for name in customer_names]\n",
        "\n",
        "print(\"Cleaned Customer Names for Database Entry:\")\n",
        "for name in cleaned_names:\n",
        "    print(name)\n",
        "\n"
      ]
    },
    {
      "cell_type": "markdown",
      "id": "b423c4f9",
      "metadata": {
        "id": "b423c4f9"
      },
      "source": [
        "## Task 19: Simple Sales Forecasting"
      ]
    },
    {
      "cell_type": "code",
      "execution_count": null,
      "id": "5ecd9b8a",
      "metadata": {
        "id": "5ecd9b8a",
        "colab": {
          "base_uri": "https://localhost:8080/"
        },
        "outputId": "5e4db01f-f23c-42a6-d74c-725ec03bbaf9"
      },
      "outputs": [
        {
          "output_type": "stream",
          "name": "stdout",
          "text": [
            "Forecasted Sales for Next Month: $22333.33\n"
          ]
        }
      ],
      "source": [
        "\n",
        "# Task 19: Simple Sales Forecasting\n",
        "\n",
        "sales_last_3_months = [20000, 22000, 25000]\n",
        "\n",
        "# the following line of code sums the numbers in the list divide by the count of numbers in the list.\n",
        "forecasted_sales = sum(sales_last_3_months) / len(sales_last_3_months)\n",
        "\n",
        "print(f\"Forecasted Sales for Next Month: ${forecasted_sales:.2f}\")\n",
        "\n"
      ]
    },
    {
      "cell_type": "markdown",
      "id": "32c1ff1a",
      "metadata": {
        "id": "32c1ff1a"
      },
      "source": [
        "## Task 20: Customer Loyalty Points Calculator"
      ]
    },
    {
      "cell_type": "code",
      "execution_count": null,
      "id": "cc5d7da8",
      "metadata": {
        "id": "cc5d7da8",
        "colab": {
          "base_uri": "https://localhost:8080/"
        },
        "outputId": "8a397450-2fd2-4c6b-a14f-497b5cb09641"
      },
      "outputs": [
        {
          "output_type": "stream",
          "name": "stdout",
          "text": [
            "Customer Loyalty Points:\n",
            "John Doe: $250 Purchase, Loyalty Points: 375.0\n",
            "Jane Smith: $500 Purchase, Loyalty Points: 1000.0\n",
            "Alice Johnson: $1000 Purchase, Loyalty Points: 2000.0\n",
            "Bob White: $150 Purchase, Loyalty Points: 150.0\n"
          ]
        }
      ],
      "source": [
        "\n",
        "# Task 20: Customer Loyalty Points Calculator\n",
        "\n",
        "customers = {\n",
        "    \"John Doe\": 250,\n",
        "    \"Jane Smith\": 500,\n",
        "    \"Alice Johnson\": 1000,\n",
        "    \"Bob White\": 150\n",
        "}\n",
        "\n",
        "# the following codes calculate the multipier value based on the defination.(sales milestones)\n",
        "def calculate_points(amount):\n",
        "    if amount < 200:\n",
        "        multiplier = 1.0\n",
        "    elif amount < 500:\n",
        "        multiplier = 1.5\n",
        "    else:\n",
        "        multiplier = 2.0\n",
        "    return amount * multiplier\n",
        "\n",
        "print(\"Customer Loyalty Points:\")\n",
        "for name, purchase in customers.items():\n",
        "    points = calculate_points(purchase)\n",
        "    print(f\"{name}: ${purchase} Purchase, Loyalty Points: {points:.1f}\")\n",
        "\n"
      ]
    },
    {
      "cell_type": "markdown",
      "source": [
        "\"This assignment aims to develop practical Python skills by solving 20 real-world business problems faced by XYZ Retail Company. As a junior data scientist, your role was to:\\n\",\n",
        "    \"- Automate retail data tasks like sales tracking, stock alerts, and customer segmentation.\\n\",\n",
        "    \"- Use Python concepts including loops, functions, conditionals, dictionaries, list comprehensions, and file handling.\\n\",\n",
        "    \"- Deliver well-commented, modular, and readable code to support business operations.\""
      ],
      "metadata": {
        "id": "T-LJ-CN6jPDg"
      },
      "id": "T-LJ-CN6jPDg"
    }
  ],
  "metadata": {
    "colab": {
      "provenance": []
    },
    "language_info": {
      "name": "python"
    },
    "kernelspec": {
      "name": "python3",
      "display_name": "Python 3"
    }
  },
  "nbformat": 4,
  "nbformat_minor": 5
}